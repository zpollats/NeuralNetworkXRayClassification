{
 "cells": [
  {
   "cell_type": "code",
   "execution_count": 70,
   "metadata": {},
   "outputs": [],
   "source": [
    "#import necessary packages\n",
    "import pandas as pd \n",
    "import splitfolders\n",
    "\n",
    "from sklearn.dummy import DummyClassifier\n",
    "\n",
    "from keras.preprocessing.image import ImageDataGenerator\n",
    "\n",
    "from keras import models\n",
    "from keras import layers\n",
    "from keras import optimizers\n",
    "from keras import metrics\n",
    "from keras import regularizers\n",
    "\n",
    "import seaborn as sns\n",
    "import matplotlib.pyplot as plt"
   ]
  },
  {
   "cell_type": "code",
   "execution_count": 2,
   "metadata": {},
   "outputs": [],
   "source": [
    "#use the splitfolders package to split our image data into train, validation, and test sets.\n",
    "#this is now commented out so that we don't create a new folder each time we run the notebook\n",
    "\n",
    "#splitfolders.ratio(\"Data\", output=\"Data_Split\",\n",
    "#    seed=42, ratio=(.64, .16, .2), group_prefix=None, move=True)"
   ]
  },
  {
   "cell_type": "code",
   "execution_count": 3,
   "metadata": {},
   "outputs": [],
   "source": [
    "#create DataGenerator objects for each set with rescaling for maximum pixel value of 255\n",
    "train_datagen = ImageDataGenerator(rescale=1./255)\n",
    "val_datagen = ImageDataGenerator(rescale=1./255)\n",
    "test_datagen = ImageDataGenerator(rescale=1./255)"
   ]
  },
  {
   "cell_type": "code",
   "execution_count": 4,
   "metadata": {},
   "outputs": [
    {
     "name": "stdout",
     "output_type": "stream",
     "text": [
      "Found 4280 images belonging to 2 classes.\n"
     ]
    }
   ],
   "source": [
    "#create a train_generator from the training directory that has been created from the split folders package\n",
    "train_generator = train_datagen.flow_from_directory(\n",
    "        # This is the target directory\n",
    "        'Data_Split/train',\n",
    "        # All images will be resized to 150x150\n",
    "        target_size=(150, 150),\n",
    "        batch_size=4280,\n",
    "        # Since we use binary_crossentropy loss, we need binary labels\n",
    "        class_mode='binary', \n",
    "        color_mode='grayscale')\n"
   ]
  },
  {
   "cell_type": "code",
   "execution_count": 5,
   "metadata": {},
   "outputs": [
    {
     "name": "stdout",
     "output_type": "stream",
     "text": [
      "Found 978 images belonging to 2 classes.\n"
     ]
    }
   ],
   "source": [
    "#create a validation_generator from the training directory that has been created from the split folders package\n",
    "validation_generator = val_datagen.flow_from_directory('Data_Split/val',\n",
    "                                                        target_size=(150, 150),\n",
    "                                                        batch_size=978,\n",
    "                                                        class_mode='binary',\n",
    "                                                        color_mode='grayscale')"
   ]
  },
  {
   "cell_type": "code",
   "execution_count": 6,
   "metadata": {},
   "outputs": [
    {
     "name": "stdout",
     "output_type": "stream",
     "text": [
      "Found 1173 images belonging to 2 classes.\n"
     ]
    }
   ],
   "source": [
    "#create a test_generator from the training directory that has been created from the split folders package\n",
    "test_generator = test_datagen.flow_from_directory('Data_Split/test',\n",
    "                                                  target_size=(150, 150),\n",
    "                                                  batch_size=1173,\n",
    "                                                  class_mode='binary',\n",
    "                                                  color_mode='grayscale')"
   ]
  },
  {
   "cell_type": "code",
   "execution_count": 7,
   "metadata": {},
   "outputs": [],
   "source": [
    "train_data, train_labels = next(train_generator)"
   ]
  },
  {
   "cell_type": "code",
   "execution_count": 8,
   "metadata": {},
   "outputs": [],
   "source": [
    "val_data, val_labels = next(validation_generator)"
   ]
  },
  {
   "cell_type": "code",
   "execution_count": 9,
   "metadata": {},
   "outputs": [],
   "source": [
    "test_data, test_labels = next(test_generator)"
   ]
  },
  {
   "cell_type": "markdown",
   "metadata": {},
   "source": [
    "### Dummy Model"
   ]
  },
  {
   "cell_type": "markdown",
   "metadata": {},
   "source": [
    "We will create a dummy model for our baseline model that simply predicts the majority class, or in this case, that the patient has pneumonia. We can use the dummy classifier from sklearn. "
   ]
  },
  {
   "cell_type": "code",
   "execution_count": 10,
   "metadata": {},
   "outputs": [],
   "source": [
    "baseline = DummyClassifier(strategy='most_frequent')"
   ]
  },
  {
   "cell_type": "code",
   "execution_count": 11,
   "metadata": {},
   "outputs": [
    {
     "data": {
      "text/plain": [
       "DummyClassifier(strategy='most_frequent')"
      ]
     },
     "execution_count": 11,
     "metadata": {},
     "output_type": "execute_result"
    }
   ],
   "source": [
    "baseline.fit(train_data, train_labels)"
   ]
  },
  {
   "cell_type": "code",
   "execution_count": 12,
   "metadata": {},
   "outputs": [
    {
     "data": {
      "text/plain": [
       "0.7633177570093458"
      ]
     },
     "execution_count": 12,
     "metadata": {},
     "output_type": "execute_result"
    }
   ],
   "source": [
    "baseline.score(train_data, train_labels)"
   ]
  },
  {
   "cell_type": "code",
   "execution_count": null,
   "metadata": {},
   "outputs": [],
   "source": []
  },
  {
   "cell_type": "code",
   "execution_count": 26,
   "metadata": {},
   "outputs": [],
   "source": [
    "train_data = train_data.reshape(train_data.shape[0], -1)"
   ]
  },
  {
   "cell_type": "code",
   "execution_count": 27,
   "metadata": {},
   "outputs": [],
   "source": [
    "val_data = val_data.reshape(val_data.shape[0], -1)"
   ]
  },
  {
   "cell_type": "code",
   "execution_count": 28,
   "metadata": {},
   "outputs": [
    {
     "data": {
      "text/plain": [
       "(4280, 22500)"
      ]
     },
     "execution_count": 28,
     "metadata": {},
     "output_type": "execute_result"
    }
   ],
   "source": [
    "train_data.shape"
   ]
  },
  {
   "cell_type": "code",
   "execution_count": 29,
   "metadata": {},
   "outputs": [],
   "source": [
    "simple_model = models.Sequential()"
   ]
  },
  {
   "cell_type": "code",
   "execution_count": 30,
   "metadata": {},
   "outputs": [],
   "source": [
    "simple_model.add(layers.Dense(12, activation='relu', input_shape=(22500,)))\n",
    "simple_model.add(layers.Dense(1, activation='sigmoid'))"
   ]
  },
  {
   "cell_type": "code",
   "execution_count": 31,
   "metadata": {},
   "outputs": [],
   "source": [
    "simple_model.compile(optimizer='SGD', \n",
    "                       loss='binary_crossentropy',\n",
    "                       metrics=['accuracy', metrics.Precision(), metrics.Recall()])"
   ]
  },
  {
   "cell_type": "code",
   "execution_count": 32,
   "metadata": {},
   "outputs": [
    {
     "name": "stdout",
     "output_type": "stream",
     "text": [
      "Model: \"sequential_2\"\n",
      "_________________________________________________________________\n",
      "Layer (type)                 Output Shape              Param #   \n",
      "=================================================================\n",
      "dense_3 (Dense)              (None, 12)                270012    \n",
      "_________________________________________________________________\n",
      "dense_4 (Dense)              (None, 1)                 13        \n",
      "=================================================================\n",
      "Total params: 270,025\n",
      "Trainable params: 270,025\n",
      "Non-trainable params: 0\n",
      "_________________________________________________________________\n"
     ]
    }
   ],
   "source": [
    "simple_model.summary()"
   ]
  },
  {
   "cell_type": "code",
   "execution_count": 33,
   "metadata": {},
   "outputs": [
    {
     "name": "stdout",
     "output_type": "stream",
     "text": [
      "Train on 4280 samples, validate on 978 samples\n",
      "Epoch 1/10\n",
      "4280/4280 [==============================] - 1s 265us/step - loss: 0.4782 - accuracy: 0.7664 - precision_2: 0.7694 - recall_2: 0.9908 - val_loss: 0.3789 - val_accuracy: 0.8088 - val_precision_2: 0.7976 - val_recall_2: 0.9945\n",
      "Epoch 2/10\n",
      "4280/4280 [==============================] - 1s 132us/step - loss: 0.3528 - accuracy: 0.8484 - precision_2: 0.8538 - recall_2: 0.9669 - val_loss: 0.3493 - val_accuracy: 0.8272 - val_precision_2: 0.8138 - val_recall_2: 0.9945\n",
      "Epoch 3/10\n",
      "4280/4280 [==============================] - 1s 135us/step - loss: 0.3070 - accuracy: 0.8867 - precision_2: 0.8954 - recall_2: 0.9642 - val_loss: 0.3307 - val_accuracy: 0.8640 - val_precision_2: 0.8482 - val_recall_2: 0.9945\n",
      "Epoch 4/10\n",
      "4280/4280 [==============================] - 1s 145us/step - loss: 0.2830 - accuracy: 0.8995 - precision_2: 0.9142 - recall_2: 0.9584 - val_loss: 0.2785 - val_accuracy: 0.9162 - val_precision_2: 0.9386 - val_recall_2: 0.9490\n",
      "Epoch 5/10\n",
      "4280/4280 [==============================] - 1s 138us/step - loss: 0.2631 - accuracy: 0.9145 - precision_2: 0.9265 - recall_2: 0.9645 - val_loss: 0.2650 - val_accuracy: 0.9131 - val_precision_2: 0.9061 - val_recall_2: 0.9848\n",
      "Epoch 6/10\n",
      "4280/4280 [==============================] - 1s 143us/step - loss: 0.2573 - accuracy: 0.9152 - precision_2: 0.9332 - recall_2: 0.9575 - val_loss: 0.2863 - val_accuracy: 0.9090 - val_precision_2: 0.9732 - val_recall_2: 0.9021\n",
      "Epoch 7/10\n",
      "4280/4280 [==============================] - 1s 145us/step - loss: 0.2402 - accuracy: 0.9264 - precision_2: 0.9409 - recall_2: 0.9642 - val_loss: 0.2564 - val_accuracy: 0.9151 - val_precision_2: 0.9063 - val_recall_2: 0.9876\n",
      "Epoch 8/10\n",
      "4280/4280 [==============================] - 1s 158us/step - loss: 0.2449 - accuracy: 0.9187 - precision_2: 0.9405 - recall_2: 0.9538 - val_loss: 0.2377 - val_accuracy: 0.9254 - val_precision_2: 0.9223 - val_recall_2: 0.9821\n",
      "Epoch 9/10\n",
      "4280/4280 [==============================] - 1s 167us/step - loss: 0.2378 - accuracy: 0.9210 - precision_2: 0.9410 - recall_2: 0.9565 - val_loss: 0.2716 - val_accuracy: 0.9008 - val_precision_2: 0.9772 - val_recall_2: 0.8869\n",
      "Epoch 10/10\n",
      "4280/4280 [==============================] - 1s 167us/step - loss: 0.2366 - accuracy: 0.9196 - precision_2: 0.9471 - recall_2: 0.9477 - val_loss: 0.2406 - val_accuracy: 0.9213 - val_precision_2: 0.9154 - val_recall_2: 0.9848\n"
     ]
    }
   ],
   "source": [
    "simple_fit = simple_model.fit(train_data,\n",
    "                              train_labels,\n",
    "                              epochs=10,\n",
    "                              batch_size=32,\n",
    "                              validation_data=(val_data, val_labels),\n",
    "                              verbose=1)"
   ]
  },
  {
   "cell_type": "code",
   "execution_count": 34,
   "metadata": {},
   "outputs": [],
   "source": [
    "#recreate our objects for features and labels in order to create simple convolutional neural network\n",
    "train_data, train_labels = next(train_generator)\n",
    "\n",
    "val_data, val_labels = next(validation_generator)\n",
    "\n",
    "test_data, test_labels = next(test_generator)"
   ]
  },
  {
   "cell_type": "code",
   "execution_count": 77,
   "metadata": {},
   "outputs": [
    {
     "name": "stdout",
     "output_type": "stream",
     "text": [
      "Model: \"sequential_21\"\n",
      "_________________________________________________________________\n",
      "Layer (type)                 Output Shape              Param #   \n",
      "=================================================================\n",
      "conv2d_21 (Conv2D)           (None, 147, 147, 64)      1088      \n",
      "_________________________________________________________________\n",
      "max_pooling2d_20 (MaxPooling (None, 73, 73, 64)        0         \n",
      "_________________________________________________________________\n",
      "flatten_15 (Flatten)         (None, 341056)            0         \n",
      "_________________________________________________________________\n",
      "dense_33 (Dense)             (None, 16)                5456912   \n",
      "_________________________________________________________________\n",
      "dense_34 (Dense)             (None, 1)                 17        \n",
      "=================================================================\n",
      "Total params: 5,458,017\n",
      "Trainable params: 5,458,017\n",
      "Non-trainable params: 0\n",
      "_________________________________________________________________\n"
     ]
    }
   ],
   "source": [
    "basic_cnn_model = models.Sequential()\n",
    "basic_cnn_model.add(layers.Conv2D(64, (4, 4), activation='relu',\n",
    "                    input_shape=(150, 150, 1)))\n",
    "basic_cnn_model.add(layers.MaxPooling2D((2, 2)))\n",
    "basic_cnn_model.add(layers.Flatten())\n",
    "basic_cnn_model.add(layers.Dense(16, activation='relu'))\n",
    "basic_cnn_model.add(layers.Dense(1, activation='sigmoid'))\n",
    "\n",
    "basic_cnn_model.compile(optimizer=\"adam\",\n",
    "                        loss='binary_crossentropy',\n",
    "                        metrics=['accuracy', metrics.Recall()])\n",
    "\n",
    "basic_cnn_model.summary()"
   ]
  },
  {
   "cell_type": "code",
   "execution_count": 49,
   "metadata": {},
   "outputs": [
    {
     "name": "stdout",
     "output_type": "stream",
     "text": [
      "Train on 4280 samples, validate on 978 samples\n",
      "Epoch 1/10\n",
      "4280/4280 [==============================] - 65s 15ms/step - loss: 0.8802 - accuracy: 0.8154 - recall_8: 0.9244 - val_loss: 0.2288 - val_accuracy: 0.8957 - val_recall_8: 0.9779\n",
      "Epoch 2/10\n",
      "4280/4280 [==============================] - 80s 19ms/step - loss: 0.1562 - accuracy: 0.9421 - recall_8: 0.9718 - val_loss: 0.1444 - val_accuracy: 0.9376 - val_recall_8: 0.9738\n",
      "Epoch 3/10\n",
      "4280/4280 [==============================] - 65s 15ms/step - loss: 0.1232 - accuracy: 0.9526 - recall_8: 0.9764 - val_loss: 0.1305 - val_accuracy: 0.9468 - val_recall_8: 0.9559\n",
      "Epoch 4/10\n",
      "4280/4280 [==============================] - 57s 13ms/step - loss: 0.0944 - accuracy: 0.9650 - recall_8: 0.9813 - val_loss: 0.1417 - val_accuracy: 0.9387 - val_recall_8: 0.9862\n",
      "Epoch 5/10\n",
      "4280/4280 [==============================] - 57s 13ms/step - loss: 0.0861 - accuracy: 0.9685 - recall_8: 0.9847 - val_loss: 0.1188 - val_accuracy: 0.9530 - val_recall_8: 0.9752\n",
      "Epoch 6/10\n",
      "4280/4280 [==============================] - 56s 13ms/step - loss: 0.0696 - accuracy: 0.9759 - recall_8: 0.9871 - val_loss: 0.1217 - val_accuracy: 0.9540 - val_recall_8: 0.9793\n",
      "Epoch 7/10\n",
      "4280/4280 [==============================] - 61s 14ms/step - loss: 0.0637 - accuracy: 0.9792 - recall_8: 0.9890 - val_loss: 0.1137 - val_accuracy: 0.9550 - val_recall_8: 0.9669\n",
      "Epoch 8/10\n",
      "4280/4280 [==============================] - 55s 13ms/step - loss: 0.0467 - accuracy: 0.9857 - recall_8: 0.9930 - val_loss: 0.1293 - val_accuracy: 0.9489 - val_recall_8: 0.9848\n",
      "Epoch 9/10\n",
      "4280/4280 [==============================] - 57s 13ms/step - loss: 0.0477 - accuracy: 0.9846 - recall_8: 0.9920 - val_loss: 0.1194 - val_accuracy: 0.9499 - val_recall_8: 0.9586\n",
      "Epoch 10/10\n",
      "4280/4280 [==============================] - 58s 14ms/step - loss: 0.0318 - accuracy: 0.9930 - recall_8: 0.9976 - val_loss: 0.1191 - val_accuracy: 0.9530 - val_recall_8: 0.9628\n"
     ]
    }
   ],
   "source": [
    "basic_cnn_history = basic_cnn_model.fit(train_data,\n",
    "                                        train_labels,\n",
    "                                        batch_size=100,\n",
    "                                        epochs=10,\n",
    "                                        validation_data=(val_data, val_labels))"
   ]
  },
  {
   "cell_type": "code",
   "execution_count": 58,
   "metadata": {},
   "outputs": [
    {
     "name": "stderr",
     "output_type": "stream",
     "text": [
      "/Users/zacharypollatsek/opt/anaconda3/envs/tensor_lecture/lib/python3.7/site-packages/seaborn/_decorators.py:43: FutureWarning: Pass the following variables as keyword args: x, y. From version 0.12, the only valid positional argument will be `data`, and passing other arguments without an explicit keyword will result in an error or misinterpretation.\n",
      "  FutureWarning\n",
      "/Users/zacharypollatsek/opt/anaconda3/envs/tensor_lecture/lib/python3.7/site-packages/seaborn/_decorators.py:43: FutureWarning: Pass the following variables as keyword args: x, y. From version 0.12, the only valid positional argument will be `data`, and passing other arguments without an explicit keyword will result in an error or misinterpretation.\n",
      "  FutureWarning\n"
     ]
    },
    {
     "data": {
      "text/plain": [
       "<AxesSubplot:>"
      ]
     },
     "execution_count": 58,
     "metadata": {},
     "output_type": "execute_result"
    },
    {
     "data": {
      "image/png": "[encoded data removed]",
      "text/plain": [
       "<Figure size 432x288 with 1 Axes>"
      ]
     },
     "metadata": {
      "needs_background": "light"
     },
     "output_type": "display_data"
    }
   ],
   "source": [
    "fig, (ax1, ax2) = plt.subplots()\n",
    "\n",
    "sns.lineplot(basic_cnn_history.epoch, basic_cnn_history.history['accuracy'], ax=ax1, label='accuracy');\n",
    "sns.lineplot(basic_cnn_history.epoch, basic_cnn_history.history['val_accuracy'], ax=ax1, label='validation accuracy');\n",
    "\n",
    "sns.lineplot(basic_cnn_history.epoch, basic_cnn_history.history['recall_8'], ax=ax2, label='recall');\n",
    "sns.lineplot(basic_cnn_history.epoch, basic_cnn_history.history['val_recall_8'], ax=ax2, label='validation recall');"
   ]
  },
  {
   "cell_type": "code",
   "execution_count": 64,
   "metadata": {},
   "outputs": [
    {
     "name": "stdout",
     "output_type": "stream",
     "text": [
      "Model: \"sequential_14\"\n",
      "_________________________________________________________________\n",
      "Layer (type)                 Output Shape              Param #   \n",
      "=================================================================\n",
      "conv2d_14 (Conv2D)           (None, 147, 147, 64)      1088      \n",
      "_________________________________________________________________\n",
      "max_pooling2d_13 (MaxPooling (None, 73, 73, 64)        0         \n",
      "_________________________________________________________________\n",
      "conv2d_15 (Conv2D)           (None, 71, 71, 32)        18464     \n",
      "_________________________________________________________________\n",
      "max_pooling2d_14 (MaxPooling (None, 35, 35, 32)        0         \n",
      "_________________________________________________________________\n",
      "flatten_11 (Flatten)         (None, 39200)             0         \n",
      "_________________________________________________________________\n",
      "dense_25 (Dense)             (None, 16)                627216    \n",
      "_________________________________________________________________\n",
      "dense_26 (Dense)             (None, 1)                 17        \n",
      "=================================================================\n",
      "Total params: 646,785\n",
      "Trainable params: 646,785\n",
      "Non-trainable params: 0\n",
      "_________________________________________________________________\n"
     ]
    }
   ],
   "source": [
    "complex_cnn_model = models.Sequential()\n",
    "complex_cnn_model.add(layers.Conv2D(64, (4, 4), activation='relu',\n",
    "                      input_shape=(150, 150, 1)))\n",
    "complex_cnn_model.add(layers.MaxPooling2D((2, 2)))\n",
    "complex_cnn_model.add(layers.Conv2D(32, (3, 3), activation='relu'))\n",
    "complex_cnn_model.add(layers.MaxPooling2D((2,2)))\n",
    "complex_cnn_model.add(layers.Flatten())\n",
    "complex_cnn_model.add(layers.Dense(16, activation='relu'))\n",
    "complex_cnn_model.add(layers.Dense(1, activation='sigmoid'))\n",
    "\n",
    "complex_cnn_model.compile(optimizer=\"adam\",\n",
    "                          loss='binary_crossentropy',\n",
    "                          metrics=['accuracy', metrics.Recall()])\n",
    "\n",
    "complex_cnn_model.summary()"
   ]
  },
  {
   "cell_type": "code",
   "execution_count": 65,
   "metadata": {},
   "outputs": [
    {
     "name": "stdout",
     "output_type": "stream",
     "text": [
      "Train on 4280 samples, validate on 978 samples\n",
      "Epoch 1/10\n",
      "4280/4280 [==============================] - 67s 16ms/step - loss: 0.3023 - accuracy: 0.8678 - recall_12: 0.9464 - val_loss: 0.1690 - val_accuracy: 0.9315 - val_recall_12: 0.9559\n",
      "Epoch 2/10\n",
      "4280/4280 [==============================] - 69s 16ms/step - loss: 0.1511 - accuracy: 0.9430 - recall_12: 0.9685 - val_loss: 0.1279 - val_accuracy: 0.9489 - val_recall_12: 0.9779\n",
      "Epoch 3/10\n",
      "4280/4280 [==============================] - 70s 16ms/step - loss: 0.1386 - accuracy: 0.9502 - recall_12: 0.9767 - val_loss: 0.1433 - val_accuracy: 0.9397 - val_recall_12: 0.9862\n",
      "Epoch 4/10\n",
      "4280/4280 [==============================] - 72s 17ms/step - loss: 0.1089 - accuracy: 0.9593 - recall_12: 0.9783 - val_loss: 0.1134 - val_accuracy: 0.9519 - val_recall_12: 0.9697\n",
      "Epoch 5/10\n",
      "4280/4280 [==============================] - 77s 18ms/step - loss: 0.1089 - accuracy: 0.9593 - recall_12: 0.9789 - val_loss: 0.1048 - val_accuracy: 0.9519 - val_recall_12: 0.9738\n",
      "Epoch 6/10\n",
      "4280/4280 [==============================] - 72s 17ms/step - loss: 0.0958 - accuracy: 0.9673 - recall_12: 0.9813 - val_loss: 0.1073 - val_accuracy: 0.9571 - val_recall_12: 0.9710\n",
      "Epoch 7/10\n",
      "4280/4280 [==============================] - 79s 18ms/step - loss: 0.1142 - accuracy: 0.9570 - recall_12: 0.9746 - val_loss: 0.1647 - val_accuracy: 0.9315 - val_recall_12: 0.9655\n",
      "Epoch 8/10\n",
      "4280/4280 [==============================] - 75s 17ms/step - loss: 0.0903 - accuracy: 0.9668 - recall_12: 0.9813 - val_loss: 0.2386 - val_accuracy: 0.9202 - val_recall_12: 0.9021\n",
      "Epoch 9/10\n",
      "4280/4280 [==============================] - 71s 17ms/step - loss: 0.0734 - accuracy: 0.9734 - recall_12: 0.9853 - val_loss: 0.1140 - val_accuracy: 0.9581 - val_recall_12: 0.9697\n",
      "Epoch 10/10\n",
      "4280/4280 [==============================] - 71s 17ms/step - loss: 0.0656 - accuracy: 0.9783 - recall_12: 0.9878 - val_loss: 0.1056 - val_accuracy: 0.9611 - val_recall_12: 0.9821\n"
     ]
    }
   ],
   "source": [
    "complex_cnn_history = complex_cnn_model.fit(train_data,\n",
    "                                            train_labels,\n",
    "                                            batch_size=32,\n",
    "                                            epochs=10,\n",
    "                                            validation_data=(val_data, val_labels))"
   ]
  },
  {
   "cell_type": "code",
   "execution_count": 66,
   "metadata": {},
   "outputs": [
    {
     "name": "stderr",
     "output_type": "stream",
     "text": [
      "/Users/zacharypollatsek/opt/anaconda3/envs/tensor_lecture/lib/python3.7/site-packages/seaborn/_decorators.py:43: FutureWarning: Pass the following variables as keyword args: x, y. From version 0.12, the only valid positional argument will be `data`, and passing other arguments without an explicit keyword will result in an error or misinterpretation.\n",
      "  FutureWarning\n",
      "/Users/zacharypollatsek/opt/anaconda3/envs/tensor_lecture/lib/python3.7/site-packages/seaborn/_decorators.py:43: FutureWarning: Pass the following variables as keyword args: x, y. From version 0.12, the only valid positional argument will be `data`, and passing other arguments without an explicit keyword will result in an error or misinterpretation.\n",
      "  FutureWarning\n"
     ]
    },
    {
     "data": {
      "image/png": "[encoded data removed]",
      "text/plain": [
       "<Figure size 432x288 with 1 Axes>"
      ]
     },
     "metadata": {
      "needs_background": "light"
     },
     "output_type": "display_data"
    }
   ],
   "source": [
    "fig, ax = plt.subplots()\n",
    "\n",
    "sns.lineplot(complex_cnn_history.epoch, complex_cnn_history.history['accuracy'], ax=ax, label='accuracy');\n",
    "sns.lineplot(complex_cnn_history.epoch, complex_cnn_history.history['val_accuracy'], ax=ax, label='validation accuracy');"
   ]
  },
  {
   "cell_type": "code",
   "execution_count": 73,
   "metadata": {},
   "outputs": [
    {
     "name": "stdout",
     "output_type": "stream",
     "text": [
      "Model: \"sequential_19\"\n",
      "_________________________________________________________________\n",
      "Layer (type)                 Output Shape              Param #   \n",
      "=================================================================\n",
      "conv2d_18 (Conv2D)           (None, 147, 147, 64)      1088      \n",
      "_________________________________________________________________\n",
      "max_pooling2d_17 (MaxPooling (None, 73, 73, 64)        0         \n",
      "_________________________________________________________________\n",
      "conv2d_19 (Conv2D)           (None, 71, 71, 32)        18464     \n",
      "_________________________________________________________________\n",
      "max_pooling2d_18 (MaxPooling (None, 35, 35, 32)        0         \n",
      "_________________________________________________________________\n",
      "flatten_13 (Flatten)         (None, 39200)             0         \n",
      "_________________________________________________________________\n",
      "dense_29 (Dense)             (None, 16)                627216    \n",
      "_________________________________________________________________\n",
      "dense_30 (Dense)             (None, 1)                 17        \n",
      "=================================================================\n",
      "Total params: 646,785\n",
      "Trainable params: 646,785\n",
      "Non-trainable params: 0\n",
      "_________________________________________________________________\n"
     ]
    }
   ],
   "source": [
    "complex_cnn_model2 = models.Sequential()\n",
    "complex_cnn_model2.add(layers.Conv2D(64, (4, 4), activation='relu',\n",
    "                       input_shape=(150, 150, 1), kernel_regularizer=regularizers.l2(l=0.05)))\n",
    "complex_cnn_model2.add(layers.MaxPooling2D((2, 2)))\n",
    "complex_cnn_model2.add(layers.Conv2D(32, (3, 3), activation='relu', \n",
    "                                     kernel_regularizer=regularizers.l2(l=0.05)))\n",
    "complex_cnn_model2.add(layers.MaxPooling2D((2,2)))\n",
    "complex_cnn_model2.add(layers.Flatten())\n",
    "complex_cnn_model2.add(layers.Dense(16, activation='relu'))\n",
    "complex_cnn_model2.add(layers.Dense(1, activation='sigmoid'))\n",
    "\n",
    "complex_cnn_model2.compile(optimizer=\"adam\",\n",
    "                          loss='binary_crossentropy',\n",
    "                          metrics=['accuracy', metrics.Recall()])\n",
    "\n",
    "complex_cnn_model2.summary()"
   ]
  },
  {
   "cell_type": "code",
   "execution_count": 74,
   "metadata": {},
   "outputs": [
    {
     "name": "stdout",
     "output_type": "stream",
     "text": [
      "Train on 4280 samples, validate on 978 samples\n",
      "Epoch 1/10\n",
      "4280/4280 [==============================] - 68s 16ms/step - loss: 1.0227 - accuracy: 0.8016 - recall_14: 0.9884 - val_loss: 0.4545 - val_accuracy: 0.8742 - val_recall_14: 0.9917\n",
      "Epoch 2/10\n",
      "4280/4280 [==============================] - 66s 15ms/step - loss: 0.3701 - accuracy: 0.8993 - recall_14: 0.9838 - val_loss: 0.3345 - val_accuracy: 0.9254 - val_recall_14: 0.9724\n",
      "Epoch 3/10\n",
      "4280/4280 [==============================] - 67s 16ms/step - loss: 0.2974 - accuracy: 0.9234 - recall_14: 0.9819 - val_loss: 0.2920 - val_accuracy: 0.9274 - val_recall_14: 0.9724\n",
      "Epoch 4/10\n",
      "4280/4280 [==============================] - 65s 15ms/step - loss: 0.2745 - accuracy: 0.9231 - recall_14: 0.9786 - val_loss: 0.2762 - val_accuracy: 0.9233 - val_recall_14: 0.9697\n",
      "Epoch 5/10\n",
      "4280/4280 [==============================] - 62s 14ms/step - loss: 0.2514 - accuracy: 0.9343 - recall_14: 0.9786 - val_loss: 0.2562 - val_accuracy: 0.9335 - val_recall_14: 0.9572\n",
      "Epoch 6/10\n",
      "4280/4280 [==============================] - 61s 14ms/step - loss: 0.2389 - accuracy: 0.9346 - recall_14: 0.9703 - val_loss: 0.2438 - val_accuracy: 0.9305 - val_recall_14: 0.9641\n",
      "Epoch 7/10\n",
      "4280/4280 [==============================] - 62s 14ms/step - loss: 0.2261 - accuracy: 0.9404 - recall_14: 0.9743 - val_loss: 0.2265 - val_accuracy: 0.9468 - val_recall_14: 0.9807\n",
      "Epoch 8/10\n",
      "4280/4280 [==============================] - 61s 14ms/step - loss: 0.2199 - accuracy: 0.9402 - recall_14: 0.9746 - val_loss: 0.2196 - val_accuracy: 0.9376 - val_recall_14: 0.9572\n",
      "Epoch 9/10\n",
      "4280/4280 [==============================] - 61s 14ms/step - loss: 0.2044 - accuracy: 0.9491 - recall_14: 0.9761 - val_loss: 0.2151 - val_accuracy: 0.9356 - val_recall_14: 0.9503\n",
      "Epoch 10/10\n",
      "4280/4280 [==============================] - 61s 14ms/step - loss: 0.2136 - accuracy: 0.9421 - recall_14: 0.9740 - val_loss: 0.2422 - val_accuracy: 0.9233 - val_recall_14: 0.9959\n"
     ]
    }
   ],
   "source": [
    "complex_cnn_history2 = complex_cnn_model2.fit(train_data,\n",
    "                                              train_labels,\n",
    "                                              batch_size=32,\n",
    "                                              epochs=10,\n",
    "                                              validation_data=(val_data, val_labels))"
   ]
  },
  {
   "cell_type": "code",
   "execution_count": 75,
   "metadata": {},
   "outputs": [
    {
     "name": "stderr",
     "output_type": "stream",
     "text": [
      "/Users/zacharypollatsek/opt/anaconda3/envs/tensor_lecture/lib/python3.7/site-packages/seaborn/_decorators.py:43: FutureWarning: Pass the following variables as keyword args: x, y. From version 0.12, the only valid positional argument will be `data`, and passing other arguments without an explicit keyword will result in an error or misinterpretation.\n",
      "  FutureWarning\n",
      "/Users/zacharypollatsek/opt/anaconda3/envs/tensor_lecture/lib/python3.7/site-packages/seaborn/_decorators.py:43: FutureWarning: Pass the following variables as keyword args: x, y. From version 0.12, the only valid positional argument will be `data`, and passing other arguments without an explicit keyword will result in an error or misinterpretation.\n",
      "  FutureWarning\n"
     ]
    },
    {
     "data": {
      "image/png": "[encoded data removed]",
      "text/plain": [
       "<Figure size 432x288 with 1 Axes>"
      ]
     },
     "metadata": {
      "needs_background": "light"
     },
     "output_type": "display_data"
    }
   ],
   "source": [
    "fig, ax = plt.subplots()\n",
    "\n",
    "sns.lineplot(complex_cnn_history2.epoch, complex_cnn_history2.history['accuracy'], ax=ax, label='accuracy');\n",
    "sns.lineplot(complex_cnn_history2.epoch, complex_cnn_history2.history['val_accuracy'], ax=ax, label='validation accuracy');"
   ]
  },
  {
   "cell_type": "code",
   "execution_count": 78,
   "metadata": {},
   "outputs": [
    {
     "name": "stdout",
     "output_type": "stream",
     "text": [
      "Model: \"sequential_22\"\n",
      "_________________________________________________________________\n",
      "Layer (type)                 Output Shape              Param #   \n",
      "=================================================================\n",
      "conv2d_22 (Conv2D)           (None, 147, 147, 64)      1088      \n",
      "_________________________________________________________________\n",
      "max_pooling2d_21 (MaxPooling (None, 73, 73, 64)        0         \n",
      "_________________________________________________________________\n",
      "conv2d_23 (Conv2D)           (None, 71, 71, 32)        18464     \n",
      "_________________________________________________________________\n",
      "max_pooling2d_22 (MaxPooling (None, 35, 35, 32)        0         \n",
      "_________________________________________________________________\n",
      "flatten_16 (Flatten)         (None, 39200)             0         \n",
      "_________________________________________________________________\n",
      "dense_35 (Dense)             (None, 16)                627216    \n",
      "_________________________________________________________________\n",
      "dropout_6 (Dropout)          (None, 16)                0         \n",
      "_________________________________________________________________\n",
      "dense_36 (Dense)             (None, 1)                 17        \n",
      "=================================================================\n",
      "Total params: 646,785\n",
      "Trainable params: 646,785\n",
      "Non-trainable params: 0\n",
      "_________________________________________________________________\n"
     ]
    }
   ],
   "source": [
    "complex_cnn_model3 = models.Sequential()\n",
    "complex_cnn_model3.add(layers.Conv2D(64, (4, 4), activation='relu',\n",
    "                       input_shape=(150, 150, 1), kernel_regularizer=regularizers.l2(l=0.05)))\n",
    "complex_cnn_model3.add(layers.MaxPooling2D((2, 2)))\n",
    "complex_cnn_model3.add(layers.Conv2D(32, (3, 3), activation='relu', \n",
    "                                     kernel_regularizer=regularizers.l2(l=0.05)))\n",
    "complex_cnn_model3.add(layers.MaxPooling2D((2,2)))\n",
    "complex_cnn_model3.add(layers.Flatten())\n",
    "complex_cnn_model3.add(layers.Dense(16, activation='relu'))\n",
    "complex_cnn_model3.add(layers.Dropout(0.5))\n",
    "complex_cnn_model3.add(layers.Dense(1, activation='sigmoid'))\n",
    "\n",
    "complex_cnn_model3.compile(optimizer=\"adam\",\n",
    "                          loss='binary_crossentropy',\n",
    "                          metrics=['accuracy', metrics.Recall()])\n",
    "\n",
    "complex_cnn_model3.summary()"
   ]
  },
  {
   "cell_type": "code",
   "execution_count": 79,
   "metadata": {},
   "outputs": [
    {
     "name": "stdout",
     "output_type": "stream",
     "text": [
      "Train on 4280 samples, validate on 978 samples\n",
      "Epoch 1/10\n",
      "4280/4280 [==============================] - 79s 19ms/step - loss: 1.0412 - accuracy: 0.7596 - recall_16: 0.9911 - val_loss: 0.4563 - val_accuracy: 0.7413 - val_recall_16: 1.0000\n",
      "Epoch 2/10\n",
      "4280/4280 [==============================] - 84s 20ms/step - loss: 0.4710 - accuracy: 0.7633 - recall_16: 1.0000 - val_loss: 0.3694 - val_accuracy: 0.7413 - val_recall_16: 1.0000\n",
      "Epoch 3/10\n",
      "4280/4280 [==============================] - 75s 17ms/step - loss: 0.4216 - accuracy: 0.7633 - recall_16: 1.0000 - val_loss: 0.3269 - val_accuracy: 0.7413 - val_recall_16: 1.0000\n",
      "Epoch 4/10\n",
      "4280/4280 [==============================] - 74s 17ms/step - loss: 0.3774 - accuracy: 0.7633 - recall_16: 1.0000 - val_loss: 0.3108 - val_accuracy: 0.7413 - val_recall_16: 1.0000\n",
      "Epoch 5/10\n",
      "4280/4280 [==============================] - 76s 18ms/step - loss: 0.3689 - accuracy: 0.7633 - recall_16: 1.0000 - val_loss: 0.3446 - val_accuracy: 0.7413 - val_recall_16: 1.0000\n",
      "Epoch 6/10\n",
      "4280/4280 [==============================] - 76s 18ms/step - loss: 0.3572 - accuracy: 0.8021 - recall_16: 0.9051 - val_loss: 0.3163 - val_accuracy: 0.8926 - val_recall_16: 0.9917\n",
      "Epoch 7/10\n",
      "4280/4280 [==============================] - 71s 16ms/step - loss: 0.3567 - accuracy: 0.8308 - recall_16: 0.8350 - val_loss: 0.3036 - val_accuracy: 0.9223 - val_recall_16: 0.9572\n",
      "Epoch 8/10\n",
      "4280/4280 [==============================] - 71s 17ms/step - loss: 0.3270 - accuracy: 0.8722 - recall_16: 0.9048 - val_loss: 0.2756 - val_accuracy: 0.9315 - val_recall_16: 0.9766\n",
      "Epoch 9/10\n",
      "4280/4280 [==============================] - 74s 17ms/step - loss: 0.3131 - accuracy: 0.8804 - recall_16: 0.9036 - val_loss: 0.2722 - val_accuracy: 0.9090 - val_recall_16: 0.9903\n",
      "Epoch 10/10\n",
      "4280/4280 [==============================] - 71s 17ms/step - loss: 0.3048 - accuracy: 0.8836 - recall_16: 0.9014 - val_loss: 0.2575 - val_accuracy: 0.9294 - val_recall_16: 0.9517\n"
     ]
    }
   ],
   "source": [
    "complex_cnn_history3 = complex_cnn_model3.fit(train_data,\n",
    "                                              train_labels,\n",
    "                                              batch_size=32,\n",
    "                                              epochs=10,\n",
    "                                              validation_data=(val_data, val_labels))"
   ]
  },
  {
   "cell_type": "code",
   "execution_count": 80,
   "metadata": {},
   "outputs": [
    {
     "name": "stderr",
     "output_type": "stream",
     "text": [
      "/Users/zacharypollatsek/opt/anaconda3/envs/tensor_lecture/lib/python3.7/site-packages/seaborn/_decorators.py:43: FutureWarning: Pass the following variables as keyword args: x, y. From version 0.12, the only valid positional argument will be `data`, and passing other arguments without an explicit keyword will result in an error or misinterpretation.\n",
      "  FutureWarning\n",
      "/Users/zacharypollatsek/opt/anaconda3/envs/tensor_lecture/lib/python3.7/site-packages/seaborn/_decorators.py:43: FutureWarning: Pass the following variables as keyword args: x, y. From version 0.12, the only valid positional argument will be `data`, and passing other arguments without an explicit keyword will result in an error or misinterpretation.\n",
      "  FutureWarning\n"
     ]
    },
    {
     "data": {
      "image/png": "[encoded data removed]",
      "text/plain": [
       "<Figure size 432x288 with 1 Axes>"
      ]
     },
     "metadata": {
      "needs_background": "light"
     },
     "output_type": "display_data"
    }
   ],
   "source": [
    "fig, ax = plt.subplots()\n",
    "\n",
    "sns.lineplot(complex_cnn_history3.epoch, complex_cnn_history3.history['accuracy'], ax=ax, label='accuracy');\n",
    "sns.lineplot(complex_cnn_history3.epoch, complex_cnn_history3.history['val_accuracy'], ax=ax, label='validation accuracy');"
   ]
  },
  {
   "cell_type": "code",
   "execution_count": 84,
   "metadata": {},
   "outputs": [
    {
     "name": "stdout",
     "output_type": "stream",
     "text": [
      "Model: \"sequential_25\"\n",
      "_________________________________________________________________\n",
      "Layer (type)                 Output Shape              Param #   \n",
      "=================================================================\n",
      "conv2d_28 (Conv2D)           (None, 147, 147, 64)      1088      \n",
      "_________________________________________________________________\n",
      "max_pooling2d_27 (MaxPooling (None, 73, 73, 64)        0         \n",
      "_________________________________________________________________\n",
      "conv2d_29 (Conv2D)           (None, 71, 71, 32)        18464     \n",
      "_________________________________________________________________\n",
      "max_pooling2d_28 (MaxPooling (None, 35, 35, 32)        0         \n",
      "_________________________________________________________________\n",
      "flatten_19 (Flatten)         (None, 39200)             0         \n",
      "_________________________________________________________________\n",
      "dense_45 (Dense)             (None, 16)                627216    \n",
      "_________________________________________________________________\n",
      "dropout_9 (Dropout)          (None, 16)                0         \n",
      "_________________________________________________________________\n",
      "dense_46 (Dense)             (None, 1)                 17        \n",
      "=================================================================\n",
      "Total params: 646,785\n",
      "Trainable params: 646,785\n",
      "Non-trainable params: 0\n",
      "_________________________________________________________________\n"
     ]
    }
   ],
   "source": [
    "complex_cnn_model4 = models.Sequential()\n",
    "complex_cnn_model4.add(layers.Conv2D(64, (4, 4), activation='relu',\n",
    "                       input_shape=(150, 150, 1), kernel_regularizer=regularizers.l2(l=0.05)))\n",
    "complex_cnn_model4.add(layers.MaxPooling2D((2, 2)))\n",
    "complex_cnn_model4.add(layers.Conv2D(32, (3, 3), activation='relu', \n",
    "                                     kernel_regularizer=regularizers.l2(l=0.05)))\n",
    "complex_cnn_model4.add(layers.MaxPooling2D((2,2)))\n",
    "complex_cnn_model4.add(layers.Flatten())\n",
    "complex_cnn_model4.add(layers.Dense(16, activation='relu'))\n",
    "complex_cnn_model4.add(layers.Dropout(0.3))\n",
    "complex_cnn_model4.add(layers.Dense(1, activation='sigmoid'))\n",
    "\n",
    "complex_cnn_model4.compile(optimizer=\"adam\",\n",
    "                          loss='binary_crossentropy',\n",
    "                          metrics=['accuracy', metrics.Recall()])\n",
    "\n",
    "complex_cnn_model4.summary()"
   ]
  },
  {
   "cell_type": "code",
   "execution_count": 85,
   "metadata": {},
   "outputs": [
    {
     "name": "stdout",
     "output_type": "stream",
     "text": [
      "Train on 4280 samples, validate on 978 samples\n",
      "Epoch 1/25\n",
      "4280/4280 [==============================] - 61s 14ms/step - loss: 1.0563 - accuracy: 0.7614 - recall_19: 0.9966 - val_loss: 0.4735 - val_accuracy: 0.7413 - val_recall_19: 1.0000\n",
      "Epoch 2/25\n",
      "4280/4280 [==============================] - 59s 14ms/step - loss: 0.4718 - accuracy: 0.7633 - recall_19: 1.0000 - val_loss: 0.3602 - val_accuracy: 0.7413 - val_recall_19: 1.0000\n",
      "Epoch 3/25\n",
      "4280/4280 [==============================] - 58s 14ms/step - loss: 0.4265 - accuracy: 0.7621 - recall_19: 0.9979 - val_loss: 0.3388 - val_accuracy: 0.7413 - val_recall_19: 1.0000\n",
      "Epoch 4/25\n",
      "4280/4280 [==============================] - 58s 14ms/step - loss: 0.4177 - accuracy: 0.7626 - recall_19: 0.9982 - val_loss: 0.3466 - val_accuracy: 0.7413 - val_recall_19: 1.0000\n",
      "Epoch 5/25\n",
      "4280/4280 [==============================] - 58s 14ms/step - loss: 0.3996 - accuracy: 0.7633 - recall_19: 1.0000 - val_loss: 0.3187 - val_accuracy: 0.7413 - val_recall_19: 1.0000\n",
      "Epoch 6/25\n",
      "4280/4280 [==============================] - 58s 14ms/step - loss: 0.3500 - accuracy: 0.7633 - recall_19: 1.0000 - val_loss: 0.2967 - val_accuracy: 0.7413 - val_recall_19: 1.0000\n",
      "Epoch 7/25\n",
      "4280/4280 [==============================] - 58s 14ms/step - loss: 0.3400 - accuracy: 0.7967 - recall_19: 0.9498 - val_loss: 0.3147 - val_accuracy: 0.9264 - val_recall_19: 0.9393\n",
      "Epoch 8/25\n",
      "4280/4280 [==============================] - 58s 14ms/step - loss: 0.3321 - accuracy: 0.8605 - recall_19: 0.8742 - val_loss: 0.3142 - val_accuracy: 0.9080 - val_recall_19: 0.9117\n",
      "Epoch 9/25\n",
      "4280/4280 [==============================] - 58s 14ms/step - loss: 0.3207 - accuracy: 0.8626 - recall_19: 0.8665 - val_loss: 0.2799 - val_accuracy: 0.9233 - val_recall_19: 0.9738\n",
      "Epoch 10/25\n",
      "4280/4280 [==============================] - 58s 14ms/step - loss: 0.3173 - accuracy: 0.8610 - recall_19: 0.8623 - val_loss: 0.2884 - val_accuracy: 0.9305 - val_recall_19: 0.9545\n",
      "Epoch 11/25\n",
      "4280/4280 [==============================] - 58s 13ms/step - loss: 0.3210 - accuracy: 0.8535 - recall_19: 0.8567 - val_loss: 0.2599 - val_accuracy: 0.9284 - val_recall_19: 0.9752\n",
      "Epoch 12/25\n",
      "4280/4280 [==============================] - 58s 13ms/step - loss: 0.3060 - accuracy: 0.8701 - recall_19: 0.8760 - val_loss: 0.2837 - val_accuracy: 0.9284 - val_recall_19: 0.9379\n",
      "Epoch 13/25\n",
      "4280/4280 [==============================] - 58s 14ms/step - loss: 0.3107 - accuracy: 0.8664 - recall_19: 0.8699 - val_loss: 0.2531 - val_accuracy: 0.9356 - val_recall_19: 0.9655\n",
      "Epoch 14/25\n",
      "4280/4280 [==============================] - 58s 14ms/step - loss: 0.3155 - accuracy: 0.8586 - recall_19: 0.8564 - val_loss: 0.2575 - val_accuracy: 0.9264 - val_recall_19: 0.9407\n",
      "Epoch 15/25\n",
      "4280/4280 [==============================] - 58s 14ms/step - loss: 0.2927 - accuracy: 0.8797 - recall_19: 0.8834 - val_loss: 0.2491 - val_accuracy: 0.9264 - val_recall_19: 0.9490\n",
      "Epoch 16/25\n",
      "4280/4280 [==============================] - 58s 14ms/step - loss: 0.3129 - accuracy: 0.8647 - recall_19: 0.8656 - val_loss: 0.2901 - val_accuracy: 0.8967 - val_recall_19: 0.9917\n",
      "Epoch 17/25\n",
      "4280/4280 [==============================] - 59s 14ms/step - loss: 0.3098 - accuracy: 0.8575 - recall_19: 0.8586 - val_loss: 0.2578 - val_accuracy: 0.9213 - val_recall_19: 0.9228\n",
      "Epoch 18/25\n",
      "4280/4280 [==============================] - 58s 14ms/step - loss: 0.2875 - accuracy: 0.8738 - recall_19: 0.8730 - val_loss: 0.2442 - val_accuracy: 0.9346 - val_recall_19: 0.9766\n",
      "Epoch 19/25\n",
      "4280/4280 [==============================] - 58s 14ms/step - loss: 0.2977 - accuracy: 0.8738 - recall_19: 0.8745 - val_loss: 0.2419 - val_accuracy: 0.9284 - val_recall_19: 0.9379\n",
      "Epoch 20/25\n",
      "4280/4280 [==============================] - 58s 14ms/step - loss: 0.2818 - accuracy: 0.8841 - recall_19: 0.8828 - val_loss: 0.2983 - val_accuracy: 0.8896 - val_recall_19: 0.8648\n",
      "Epoch 21/25\n",
      "4280/4280 [==============================] - 59s 14ms/step - loss: 0.2966 - accuracy: 0.8680 - recall_19: 0.8656 - val_loss: 0.2548 - val_accuracy: 0.9090 - val_recall_19: 0.9062\n",
      "Epoch 22/25\n",
      "4280/4280 [==============================] - 59s 14ms/step - loss: 0.2810 - accuracy: 0.8862 - recall_19: 0.8852 - val_loss: 0.2405 - val_accuracy: 0.9274 - val_recall_19: 0.9821\n",
      "Epoch 23/25\n",
      "4280/4280 [==============================] - 59s 14ms/step - loss: 0.2866 - accuracy: 0.8757 - recall_19: 0.8721 - val_loss: 0.2230 - val_accuracy: 0.9438 - val_recall_19: 0.9683\n",
      "Epoch 24/25\n",
      "4280/4280 [==============================] - 59s 14ms/step - loss: 0.2854 - accuracy: 0.8731 - recall_19: 0.8702 - val_loss: 0.2250 - val_accuracy: 0.9397 - val_recall_19: 0.9766\n",
      "Epoch 25/25\n",
      "4280/4280 [==============================] - 58s 14ms/step - loss: 0.2897 - accuracy: 0.8727 - recall_19: 0.8702 - val_loss: 0.2344 - val_accuracy: 0.9294 - val_recall_19: 0.9821\n"
     ]
    }
   ],
   "source": [
    "complex_cnn_history4 = complex_cnn_model4.fit(train_data,\n",
    "                                              train_labels,\n",
    "                                              batch_size=32,\n",
    "                                              epochs=25,\n",
    "                                              validation_data=(val_data, val_labels))"
   ]
  },
  {
   "cell_type": "code",
   "execution_count": null,
   "metadata": {},
   "outputs": [],
   "source": []
  }
 ],
 "metadata": {
  "kernelspec": {
   "display_name": "Python (tensor_lecture)",
   "language": "python",
   "name": "tensor_lecture"
  },
  "language_info": {
   "codemirror_mode": {
    "name": "ipython",
    "version": 3
   },
   "file_extension": ".py",
   "mimetype": "text/x-python",
   "name": "python",
   "nbconvert_exporter": "python",
   "pygments_lexer": "ipython3",
   "version": "3.7.13"
  }
 },
 "nbformat": 4,
 "nbformat_minor": 2
}
