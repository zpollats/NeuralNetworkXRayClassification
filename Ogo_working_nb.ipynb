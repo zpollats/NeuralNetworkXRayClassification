{
 "cells": [
  {
   "cell_type": "markdown",
   "metadata": {},
   "source": [
    "# Image Classification: Detecting Pediatric Pneumonia"
   ]
  },
  {
   "cell_type": "markdown",
   "metadata": {},
   "source": [
    "## Overview"
   ]
  },
  {
   "cell_type": "markdown",
   "metadata": {},
   "source": [
    "## Business Understanding"
   ]
  },
  {
   "cell_type": "markdown",
   "metadata": {},
   "source": [
    "## Data Understanding"
   ]
  },
  {
   "cell_type": "markdown",
   "metadata": {},
   "source": [
    "## Data Preparation"
   ]
  },
  {
   "cell_type": "code",
   "execution_count": 1,
   "metadata": {},
   "outputs": [
    {
     "name": "stdout",
     "output_type": "stream",
     "text": [
      "Requirement already satisfied: split-folders in /Users/mysterious/opt/anaconda3/envs/learn-env/lib/python3.8/site-packages (0.5.1)\n",
      "Note: you may need to restart the kernel to use updated packages.\n"
     ]
    }
   ],
   "source": [
    "pip install split-folders"
   ]
  },
  {
   "cell_type": "code",
   "execution_count": 18,
   "metadata": {},
   "outputs": [],
   "source": [
    "import pandas as pd \n",
    "import splitfolders\n",
    "import matplotlib.pyplot as plt\n",
    "import seaborn as sns\n",
    "\n",
    "\n",
    "from keras.preprocessing.image import ImageDataGenerator\n",
    "\n",
    "from keras import models\n",
    "from keras import layers \n",
    "from keras import optimizers\n",
    "from sklearn.dummy import DummyClassifier\n",
    "from sklearn.metrics import recall_score, classification_report, precision_score\n",
    "from sklearn.model_selection import cross_val_score\n",
    "from keras import metrics\n",
    "from tensorflow.keras.wrappers import scikit_learn\n",
    "import tensorflow as tf\n",
    "from tensorflow.keras.layers import Dense\n",
    "from sklearn.model_selection import GridSearchCV\n",
    "import numpy as np\n",
    "from sklearn.metrics import plot_confusion_matrix, confusion_matrix, ConfusionMatrixDisplay\n",
    "\n",
    "\n",
    "seed = 42\n",
    "tf.random.set_seed(seed)\n",
    "%matplotlib inline "
   ]
  },
  {
   "cell_type": "code",
   "execution_count": null,
   "metadata": {},
   "outputs": [],
   "source": []
  },
  {
   "cell_type": "markdown",
   "metadata": {},
   "source": [
    "### Pre-processing"
   ]
  },
  {
   "cell_type": "code",
   "execution_count": null,
   "metadata": {},
   "outputs": [],
   "source": [
    "#splitfolders.ratio(\"Data\", output=\"Data_Split\",\n",
    "#    seed=42, ratio=(.64, .16, .2), group_prefix=None, move=True)"
   ]
  },
  {
   "cell_type": "code",
   "execution_count": 3,
   "metadata": {},
   "outputs": [],
   "source": [
    "train_datagen = ImageDataGenerator(rescale=1./255)\n",
    "val_datagen = ImageDataGenerator(rescale=1./255)\n",
    "test_datagen = ImageDataGenerator(rescale=1./255)"
   ]
  },
  {
   "cell_type": "code",
   "execution_count": 4,
   "metadata": {},
   "outputs": [
    {
     "name": "stdout",
     "output_type": "stream",
     "text": [
      "Found 3747 images belonging to 2 classes.\n"
     ]
    }
   ],
   "source": [
    "train_generator = train_datagen.flow_from_directory(\n",
    "        # This is the target directory\n",
    "        'Data_Split/train',\n",
    "        # All images will be resized to 150x150\n",
    "        target_size=(150, 150),\n",
    "        batch_size=3747,\n",
    "        color_mode='grayscale',\n",
    "        # Since we use binary_crossentropy loss, we need binary labels\n",
    "        class_mode='binary')\n"
   ]
  },
  {
   "cell_type": "code",
   "execution_count": 5,
   "metadata": {},
   "outputs": [
    {
     "name": "stdout",
     "output_type": "stream",
     "text": [
      "Found 936 images belonging to 2 classes.\n",
      "Found 1173 images belonging to 2 classes.\n"
     ]
    }
   ],
   "source": [
    "validation_generator = val_datagen.flow_from_directory('Data_Split/val',\n",
    "                                                        target_size=(150, 150),\n",
    "                                                        batch_size=936,\n",
    "                                                        color_mode='grayscale',\n",
    "                                                        class_mode='binary')\n",
    "test_generator = test_datagen.flow_from_directory('Data_Split/test',\n",
    "                                                  target_size=(150, 150),\n",
    "                                                  batch_size=1173,\n",
    "                                                  color_mode='grayscale',\n",
    "                                                  class_mode='binary')"
   ]
  },
  {
   "cell_type": "code",
   "execution_count": 6,
   "metadata": {},
   "outputs": [
    {
     "name": "stdout",
     "output_type": "stream",
     "text": [
      "Found 3747 images belonging to 2 classes.\n"
     ]
    }
   ],
   "source": [
    "#Creating the augumented data\n",
    "\n",
    "aug_train_images = ImageDataGenerator(rotation_range=30, \n",
    "                                   width_shift_range=0.25, \n",
    "                                   height_shift_range=0.25, \n",
    "                                   shear_range=0.25, \n",
    "                                   zoom_range=0.25, \n",
    "                                   horizontal_flip=True,\n",
    "                                   vertical_flip=True)\n",
    "\n",
    "train_aug = aug_train_images.flow_from_directory('Data_Split/train',\n",
    "                                                  target_size=(150, 150),\n",
    "                                                  batch_size=3747,\n",
    "                                                  color_mode='grayscale',\n",
    "                                                  class_mode='binary')"
   ]
  },
  {
   "cell_type": "code",
   "execution_count": 7,
   "metadata": {},
   "outputs": [],
   "source": [
    "#getting images and labels for models\n",
    "train_data, train_labels = next (train_generator)\n",
    "test_data, test_labels = next (test_generator)\n",
    "val_data, val_labels = next (validation_generator)"
   ]
  },
  {
   "cell_type": "code",
   "execution_count": 8,
   "metadata": {},
   "outputs": [
    {
     "data": {
      "text/plain": [
       "(3747, 22500)"
      ]
     },
     "execution_count": 8,
     "metadata": {},
     "output_type": "execute_result"
    }
   ],
   "source": [
    "#reshaping\n",
    "train_data = train_data.reshape(train_data.shape[0], -1)\n",
    "test_data = test_data.reshape(test_data.shape[0], -1)\n",
    "val_data = val_data.reshape(val_data.shape[0], -1)\n",
    "train_data.shape"
   ]
  },
  {
   "cell_type": "code",
   "execution_count": 9,
   "metadata": {},
   "outputs": [],
   "source": [
    "def metrics(history):\n",
    "    \n",
    "    sigmoid_loss = results.history['loss']\n",
    "    sigmoid_accuracy = results.history['accuracy']\n",
    "\n",
    "    fig, (ax1, ax2) = plt.subplots(1, 2, figsize=(10,5))\n",
    "    sns.lineplot(x=results.epoch, y=sigmoid_loss, ax=ax1, label='loss')\n",
    "    sns.lineplot(x=results.epoch, y=sigmoid_accuracy, ax=ax2, label='accuracy');"
   ]
  },
  {
   "cell_type": "markdown",
   "metadata": {},
   "source": [
    "#### Dummy (baseline model)"
   ]
  },
  {
   "cell_type": "code",
   "execution_count": 10,
   "metadata": {},
   "outputs": [
    {
     "data": {
      "text/plain": [
       "DummyClassifier(strategy='most_frequent')"
      ]
     },
     "execution_count": 10,
     "metadata": {},
     "output_type": "execute_result"
    }
   ],
   "source": [
    "dummy_model =  DummyClassifier(strategy='most_frequent')\n",
    "dummy_model.fit(train_data, train_labels)"
   ]
  },
  {
   "cell_type": "code",
   "execution_count": 11,
   "metadata": {},
   "outputs": [],
   "source": [
    "y_preds_dummy = dummy_model.predict(val_data)"
   ]
  },
  {
   "cell_type": "code",
   "execution_count": 12,
   "metadata": {},
   "outputs": [
    {
     "name": "stdout",
     "output_type": "stream",
     "text": [
      "Dummy Model accuracy: 0.7297008547008547\n",
      "Dummy Model recall: 1.0\n",
      "Dummy Model precision: 0.7297008547008547\n"
     ]
    }
   ],
   "source": [
    "dummy_acc = dummy_model.score(val_data, val_labels)\n",
    "dummy_rec = recall_score(val_labels,y_preds_dummy)\n",
    "dummy_pre = precision_score(val_labels,y_preds_dummy)\n",
    "\n",
    "print(f\"Dummy Model accuracy: {dummy_acc}\")\n",
    "print(f\"Dummy Model recall: {dummy_rec}\")\n",
    "print(f\"Dummy Model precision: {dummy_pre}\")"
   ]
  },
  {
   "cell_type": "code",
   "execution_count": 13,
   "metadata": {},
   "outputs": [
    {
     "data": {
      "image/png": "[encoded data removed]",
      "text/plain": [
       "<Figure size 432x288 with 2 Axes>"
      ]
     },
     "metadata": {
      "needs_background": "light"
     },
     "output_type": "display_data"
    }
   ],
   "source": [
    "# Confusion matrix for dummy model\n",
    "plot_confusion_matrix(dummy_model, val_data, val_labels);"
   ]
  },
  {
   "cell_type": "code",
   "execution_count": null,
   "metadata": {},
   "outputs": [],
   "source": []
  },
  {
   "cell_type": "markdown",
   "metadata": {},
   "source": [
    "#### Simple Model 1"
   ]
  },
  {
   "cell_type": "code",
   "execution_count": 19,
   "metadata": {},
   "outputs": [],
   "source": [
    "simple_model = models.Sequential()"
   ]
  },
  {
   "cell_type": "code",
   "execution_count": 20,
   "metadata": {},
   "outputs": [],
   "source": [
    "simple_model.add(layers.Dense(12, activation='relu', input_shape=(22500,)))\n",
    "simple_model.add(layers.Dense(1, activation='sigmoid'))                       "
   ]
  },
  {
   "cell_type": "code",
   "execution_count": 22,
   "metadata": {},
   "outputs": [
    {
     "name": "stdout",
     "output_type": "stream",
     "text": [
      "Model: \"sequential_1\"\n",
      "_________________________________________________________________\n",
      "Layer (type)                 Output Shape              Param #   \n",
      "=================================================================\n",
      "dense_2 (Dense)              (None, 12)                270012    \n",
      "_________________________________________________________________\n",
      "dense_3 (Dense)              (None, 1)                 13        \n",
      "=================================================================\n",
      "Total params: 270,025\n",
      "Trainable params: 270,025\n",
      "Non-trainable params: 0\n",
      "_________________________________________________________________\n"
     ]
    }
   ],
   "source": [
    "simple_model.compile(optimizer='SGD',\n",
    "                       loss='binary_crossentropy',\n",
    "                       metrics=['accuracy', metrics.Precision(), metrics.Recall()])\n",
    "simple_model.summary()"
   ]
  },
  {
   "cell_type": "code",
   "execution_count": 23,
   "metadata": {},
   "outputs": [
    {
     "name": "stdout",
     "output_type": "stream",
     "text": [
      "Epoch 1/10\n",
      "118/118 [==============================] - 2s 19ms/step - loss: 0.5431 - accuracy: 0.7216 - precision_1: 0.7313 - recall_1: 0.9777 - val_loss: 0.5326 - val_accuracy: 0.7297 - val_precision_1: 0.7297 - val_recall_1: 1.0000\n",
      "Epoch 2/10\n",
      "118/118 [==============================] - 1s 6ms/step - loss: 0.4097 - accuracy: 0.7699 - precision_1: 0.7704 - recall_1: 0.9755 - val_loss: 0.3925 - val_accuracy: 0.7949 - val_precision_1: 0.7825 - val_recall_1: 0.9956\n",
      "Epoch 3/10\n",
      "118/118 [==============================] - 1s 7ms/step - loss: 0.3481 - accuracy: 0.8751 - precision_1: 0.8820 - recall_1: 0.9568 - val_loss: 0.6029 - val_accuracy: 0.7489 - val_precision_1: 0.7440 - val_recall_1: 1.0000\n",
      "Epoch 4/10\n",
      "118/118 [==============================] - 1s 6ms/step - loss: 0.3208 - accuracy: 0.8938 - precision_1: 0.9033 - recall_1: 0.9568 - val_loss: 0.4966 - val_accuracy: 0.7190 - val_precision_1: 0.9976 - val_recall_1: 0.6164\n",
      "Epoch 5/10\n",
      "118/118 [==============================] - 1s 6ms/step - loss: 0.3164 - accuracy: 0.8903 - precision_1: 0.9144 - recall_1: 0.9375 - val_loss: 0.4092 - val_accuracy: 0.8259 - val_precision_1: 0.8088 - val_recall_1: 0.9971\n",
      "Epoch 6/10\n",
      "118/118 [==============================] - 1s 6ms/step - loss: 0.3037 - accuracy: 0.8975 - precision_1: 0.9218 - recall_1: 0.9393 - val_loss: 0.2675 - val_accuracy: 0.9167 - val_precision_1: 0.9116 - val_recall_1: 0.9810\n",
      "Epoch 7/10\n",
      "118/118 [==============================] - 1s 7ms/step - loss: 0.2800 - accuracy: 0.9141 - precision_1: 0.9323 - recall_1: 0.9514 - val_loss: 0.5224 - val_accuracy: 0.6784 - val_precision_1: 1.0000 - val_recall_1: 0.5593\n",
      "Epoch 8/10\n",
      "118/118 [==============================] - 1s 6ms/step - loss: 0.2775 - accuracy: 0.9069 - precision_1: 0.9297 - recall_1: 0.9437 - val_loss: 0.2603 - val_accuracy: 0.9135 - val_precision_1: 0.9057 - val_recall_1: 0.9839\n",
      "Epoch 9/10\n",
      "118/118 [==============================] - 1s 6ms/step - loss: 0.2687 - accuracy: 0.9111 - precision_1: 0.9311 - recall_1: 0.9484 - val_loss: 0.3024 - val_accuracy: 0.8846 - val_precision_1: 0.8681 - val_recall_1: 0.9927\n",
      "Epoch 10/10\n",
      "118/118 [==============================] - 1s 7ms/step - loss: 0.2473 - accuracy: 0.9253 - precision_1: 0.9376 - recall_1: 0.9616 - val_loss: 0.2300 - val_accuracy: 0.9284 - val_precision_1: 0.9266 - val_recall_1: 0.9795\n"
     ]
    }
   ],
   "source": [
    "simple_model_fit = simple_model.fit(train_data, train_labels, epochs=10, \n",
    "                                    batch_size=32, validation_data= (val_data, val_labels), verbose=1)"
   ]
  },
  {
   "cell_type": "code",
   "execution_count": 24,
   "metadata": {},
   "outputs": [
    {
     "ename": "KeyError",
     "evalue": "'precision'",
     "output_type": "error",
     "traceback": [
      "\u001b[0;31m---------------------------------------------------------------------------\u001b[0m",
      "\u001b[0;31mKeyError\u001b[0m                                  Traceback (most recent call last)",
      "\u001b[0;32m<ipython-input-24-18b09e261808>\u001b[0m in \u001b[0;36m<module>\u001b[0;34m\u001b[0m\n\u001b[1;32m      1\u001b[0m \u001b[0mloss\u001b[0m \u001b[0;34m=\u001b[0m \u001b[0msimple_model_fit\u001b[0m\u001b[0;34m.\u001b[0m\u001b[0mhistory\u001b[0m\u001b[0;34m[\u001b[0m\u001b[0;34m'loss'\u001b[0m\u001b[0;34m]\u001b[0m\u001b[0;34m\u001b[0m\u001b[0;34m\u001b[0m\u001b[0m\n\u001b[1;32m      2\u001b[0m \u001b[0maccuracy\u001b[0m \u001b[0;34m=\u001b[0m \u001b[0msimple_model_fit\u001b[0m\u001b[0;34m.\u001b[0m\u001b[0mhistory\u001b[0m\u001b[0;34m[\u001b[0m\u001b[0;34m'accuracy'\u001b[0m\u001b[0;34m]\u001b[0m\u001b[0;34m\u001b[0m\u001b[0;34m\u001b[0m\u001b[0m\n\u001b[0;32m----> 3\u001b[0;31m \u001b[0mprecision\u001b[0m \u001b[0;34m=\u001b[0m \u001b[0msimple_model_fit\u001b[0m\u001b[0;34m.\u001b[0m\u001b[0mhistory\u001b[0m\u001b[0;34m[\u001b[0m\u001b[0;34m'precision'\u001b[0m\u001b[0;34m]\u001b[0m\u001b[0;34m\u001b[0m\u001b[0;34m\u001b[0m\u001b[0m\n\u001b[0m\u001b[1;32m      4\u001b[0m \u001b[0mrecall\u001b[0m \u001b[0;34m=\u001b[0m \u001b[0msimple_model_fit\u001b[0m\u001b[0;34m.\u001b[0m\u001b[0mhistory\u001b[0m\u001b[0;34m[\u001b[0m\u001b[0;34m'recall'\u001b[0m\u001b[0;34m]\u001b[0m\u001b[0;34m\u001b[0m\u001b[0;34m\u001b[0m\u001b[0m\n\u001b[1;32m      5\u001b[0m \u001b[0;34m\u001b[0m\u001b[0m\n",
      "\u001b[0;31mKeyError\u001b[0m: 'precision'"
     ]
    }
   ],
   "source": [
    "loss = simple_model_fit.history['loss']\n",
    "accuracy = simple_model_fit.history['accuracy']\n",
    "precision = simple_model_fit.history['precision']\n",
    "recall = simple_model_fit.history['recall']\n",
    "\n",
    "fig, ((ax1, ax2), (ax3, ax4)) = plt.subplots(2,2,figsize=(15,8))\n",
    "sns.lineplot(x=simple_model_fit.epoch, y=loss, ax=ax1, label='loss')\n",
    "sns.lineplot(x=simple_model_fit.epoch, y=accuracy, ax=ax2, label='accuracy')\n",
    "sns.lineplot(x=simple_model_fit.epoch, y=precision, ax=ax3, label='precision')\n",
    "sns.lineplot(x=simple_model_fit.epoch, y=recall, ax=ax4, label='recall');"
   ]
  },
  {
   "cell_type": "code",
   "execution_count": null,
   "metadata": {},
   "outputs": [],
   "source": []
  },
  {
   "cell_type": "code",
   "execution_count": null,
   "metadata": {},
   "outputs": [],
   "source": []
  },
  {
   "cell_type": "markdown",
   "metadata": {},
   "source": [
    "##### Simple Model GridSearch"
   ]
  },
  {
   "cell_type": "code",
   "execution_count": null,
   "metadata": {},
   "outputs": [],
   "source": [
    "def create_model():\n",
    "    #create model\n",
    "    model = models.Sequential()\n",
    "    model.add(Dense(12, activation='relu', input_shape=(22500,)))\n",
    "    model.add(Dense(1, activation='sigmoid'))\n",
    "    #Compile model\n",
    "    model.compile(loss='binary_crossentropy',\n",
    "                  metrics=['accuracy', metrics.Precision(), metrics.Recall()])\n",
    "    return model\n",
    "  "
   ]
  },
  {
   "cell_type": "code",
   "execution_count": null,
   "metadata": {},
   "outputs": [],
   "source": [
    "keras_model = scikit_learn.KerasClassifier(create_model, verbose=1)\n",
    "batch_size = [10, 20, 30, 50, 75, 100 ]\n",
    "epochs = [10, 20, 30, 40 ]\n",
    "optimizer = ['SGD','ADAM']\n",
    "param_grid = dict(batch_size=batch_size, epochs=epochs, optimizer=optimizer)\n"
   ]
  },
  {
   "cell_type": "code",
   "execution_count": null,
   "metadata": {},
   "outputs": [],
   "source": []
  },
  {
   "cell_type": "code",
   "execution_count": null,
   "metadata": {},
   "outputs": [],
   "source": [
    "grid = GridSearchCV(estimator= keras_model, param_grid=param_grid, cv=5)\n",
    "grid_result = grid.fit(train_data, train_labels)"
   ]
  },
  {
   "cell_type": "code",
   "execution_count": null,
   "metadata": {},
   "outputs": [],
   "source": []
  },
  {
   "cell_type": "markdown",
   "metadata": {},
   "source": [
    "### Convolutional Neural Network"
   ]
  },
  {
   "cell_type": "code",
   "execution_count": null,
   "metadata": {},
   "outputs": [],
   "source": [
    "train_data, train_labels = next (train_generator)\n",
    "test_data, test_labels = next (test_generator)\n",
    "val_data, val_labels = next (validation_generator)"
   ]
  },
  {
   "cell_type": "code",
   "execution_count": null,
   "metadata": {},
   "outputs": [],
   "source": [
    "cnn_model = models.Sequential()\n",
    "cnn_model.add(layers.Conv2D(64, (3, 3), activation='relu', input_shape=(150,150,1)))\n",
    "cnn_model.add(layers.MaxPooling2D((2,2)))\n",
    "cnn_model.add(layers.Conv2D(32, (3,3), activation='relu'))       \n",
    "cnn_model.add(layers.MaxPooling2D((2,2)))\n",
    "cnn_model.add(layers.Flatten())\n",
    "cnn_model.add(Dense(12, activation='relu'))\n",
    "cnn_model.add(Dense(1, activation='sigmoid'))              "
   ]
  },
  {
   "cell_type": "code",
   "execution_count": null,
   "metadata": {},
   "outputs": [],
   "source": [
    "cnn_model.compile(optimizer='SGD',\n",
    "                       loss='binary_crossentropy',\n",
    "                       metrics=['accuracy', metrics.Precision(), metrics.Recall()])"
   ]
  },
  {
   "cell_type": "code",
   "execution_count": null,
   "metadata": {},
   "outputs": [],
   "source": [
    "cnn_model_fit = cnn_model.fit(train_data, train_labels, epochs=10, \n",
    "                                    batch_size=32, validation_data= (val_data, val_labels), verbose=1)"
   ]
  },
  {
   "cell_type": "code",
   "execution_count": null,
   "metadata": {},
   "outputs": [],
   "source": []
  },
  {
   "cell_type": "code",
   "execution_count": null,
   "metadata": {},
   "outputs": [],
   "source": [
    "def create_model():\n",
    "    #create model\n",
    "    cnn_model = models.Sequential()\n",
    "    cnn_model.add(layers.Conv2D(64, (3, 3), activation='relu', input_shape=(150,150,1)))\n",
    "    cnn_model.add(layers.MaxPooling2D((2,2)))\n",
    "    cnn_model.add(layers.Conv2D(32, (3,3), activation='relu'))       \n",
    "    cnn_model.add(layers.MaxPooling2D((2,2)))\n",
    "    cnn_model.add(layers.Flatten())\n",
    "    cnn_model.add(Dense(12, activation='relu'))\n",
    "    cnn_model.add(Dense(1, activation='sigmoid')) \n",
    "    #Compile model\n",
    "    model.compile(optimizer='SGD', loss='binary_crossentropy',\n",
    "                  metrics=['accuracy', metrics.Precision(), metrics.Recall()])\n",
    "    return model"
   ]
  },
  {
   "cell_type": "code",
   "execution_count": null,
   "metadata": {},
   "outputs": [],
   "source": [
    "cnn_model = scikit_learn.KerasClassifier(create_model, verbose=1)\n",
    "batch_size = [10, 20]\n",
    "epochs = [10, 25]\n",
    "param_grid = dict(batch_size=batch_size, epochs=epochs)"
   ]
  },
  {
   "cell_type": "code",
   "execution_count": null,
   "metadata": {},
   "outputs": [],
   "source": [
    "grid = GridSearchCV(estimator= cnn_model, param_grid=param_grid, cv=5)\n",
    "grid_result = grid.fit(train_data, train_labels)"
   ]
  },
  {
   "cell_type": "code",
   "execution_count": null,
   "metadata": {},
   "outputs": [],
   "source": []
  },
  {
   "cell_type": "code",
   "execution_count": null,
   "metadata": {},
   "outputs": [],
   "source": []
  },
  {
   "cell_type": "code",
   "execution_count": null,
   "metadata": {},
   "outputs": [],
   "source": []
  },
  {
   "cell_type": "code",
   "execution_count": null,
   "metadata": {},
   "outputs": [],
   "source": []
  },
  {
   "cell_type": "code",
   "execution_count": null,
   "metadata": {},
   "outputs": [],
   "source": []
  }
 ],
 "metadata": {
  "kernelspec": {
   "display_name": "Python 3",
   "language": "python",
   "name": "python3"
  },
  "language_info": {
   "codemirror_mode": {
    "name": "ipython",
    "version": 3
   },
   "file_extension": ".py",
   "mimetype": "text/x-python",
   "name": "python",
   "nbconvert_exporter": "python",
   "pygments_lexer": "ipython3",
   "version": "3.8.5"
  }
 },
 "nbformat": 4,
 "nbformat_minor": 2
}
