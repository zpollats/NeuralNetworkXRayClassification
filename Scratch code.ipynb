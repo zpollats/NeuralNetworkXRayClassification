{
 "cells": [
  {
   "cell_type": "code",
   "execution_count": 1,
   "metadata": {},
   "outputs": [],
   "source": [
    "#importing packages\n",
    "import pandas as pd \n",
    "import splitfolders\n",
    "import matplotlib.pyplot as plt\n",
    "import seaborn as sns\n",
    "\n",
    "\n",
    "import joblib\n",
    "import os\n",
    "\n",
    "from tensorflow import keras\n",
    "\n",
    "import tensorflow as tf\n",
    "from tensorflow.keras.preprocessing.image import ImageDataGenerator\n",
    "from tensorflow.keras.callbacks import EarlyStopping\n",
    "\n",
    "from tensorflow.keras import models, layers, optimizers, regularizers\n",
    "from tensorflow.keras.models import load_model\n",
    "from sklearn.dummy import DummyClassifier\n",
    "from sklearn.metrics import recall_score, classification_report, precision_score\n",
    "from sklearn.model_selection import cross_val_score\n",
    "from tensorflow.keras import metrics\n",
    "from tensorflow.keras.wrappers import scikit_learn\n",
    "\n",
    "from tensorflow.keras.layers import Dense\n",
    "from sklearn.model_selection import GridSearchCV\n",
    "import numpy as np\n",
    "from sklearn.metrics import plot_confusion_matrix, confusion_matrix, ConfusionMatrixDisplay\n",
    "\n",
    "\n",
    "seed = 42\n",
    "tf.random.set_seed(seed)\n",
    "import warnings\n",
    "warnings.filterwarnings('ignore')\n",
    "%matplotlib inline "
   ]
  },
  {
   "cell_type": "code",
   "execution_count": 2,
   "metadata": {},
   "outputs": [],
   "source": [
    "train_datagen = ImageDataGenerator(rescale=1./255)\n",
    "val_datagen = ImageDataGenerator(rescale=1./255)\n",
    "test_datagen = ImageDataGenerator(rescale=1./255)"
   ]
  },
  {
   "cell_type": "code",
   "execution_count": 3,
   "metadata": {},
   "outputs": [
    {
     "name": "stdout",
     "output_type": "stream",
     "text": [
      "Found 936 images belonging to 2 classes.\n",
      "Found 1173 images belonging to 2 classes.\n"
     ]
    }
   ],
   "source": [
    "validation_generator = val_datagen.flow_from_directory('Data_Split/val',\n",
    "                                                        target_size=(150, 150),\n",
    "                                                        batch_size=936,\n",
    "                                                        color_mode='grayscale',\n",
    "                                                        class_mode='binary')\n",
    "test_generator = test_datagen.flow_from_directory('Data_Split/test',\n",
    "                                                  target_size=(150, 150),\n",
    "                                                  batch_size=1173,\n",
    "                                                  color_mode='grayscale',\n",
    "                                                  class_mode='binary')"
   ]
  },
  {
   "cell_type": "code",
   "execution_count": 4,
   "metadata": {},
   "outputs": [
    {
     "name": "stdout",
     "output_type": "stream",
     "text": [
      "Found 3747 images belonging to 2 classes.\n"
     ]
    }
   ],
   "source": [
    "train_generator = train_datagen.flow_from_directory(\n",
    "        # This is the target directory\n",
    "        'Data_Split/train',\n",
    "        # All images will be resized to 150x150\n",
    "        target_size=(150, 150),\n",
    "        batch_size=3747,\n",
    "        color_mode='grayscale',\n",
    "        # Since we use binary_crossentropy loss, we need binary labels\n",
    "        class_mode='binary')\n"
   ]
  },
  {
   "cell_type": "code",
   "execution_count": 5,
   "metadata": {},
   "outputs": [
    {
     "name": "stdout",
     "output_type": "stream",
     "text": [
      "Found 3747 images belonging to 2 classes.\n"
     ]
    }
   ],
   "source": [
    "#Creating the augumented data\n",
    "\n",
    "aug_train_images = ImageDataGenerator(rotation_range=30, \n",
    "                                   width_shift_range=0.25, \n",
    "                                   height_shift_range=0.25, \n",
    "                                   shear_range=0.25, \n",
    "                                   zoom_range=0.25, \n",
    "                                   horizontal_flip=True,\n",
    "                                   vertical_flip=True)\n",
    "\n",
    "train_aug = aug_train_images.flow_from_directory('Data_Split/train',\n",
    "                                                  target_size=(150, 150),\n",
    "                                                  batch_size=3747,\n",
    "                                                  color_mode='grayscale',\n",
    "                                                  class_mode='binary')"
   ]
  },
  {
   "cell_type": "code",
   "execution_count": 6,
   "metadata": {},
   "outputs": [],
   "source": [
    "train_data, train_labels = next (train_generator)\n",
    "test_data, test_labels = next (test_generator)\n",
    "val_data, val_labels = next (validation_generator)"
   ]
  },
  {
   "cell_type": "code",
   "execution_count": 7,
   "metadata": {},
   "outputs": [],
   "source": [
    "cnn1_modelT = load_model('models/cnn1')"
   ]
  },
  {
   "cell_type": "code",
   "execution_count": 8,
   "metadata": {},
   "outputs": [
    {
     "name": "stdout",
     "output_type": "stream",
     "text": [
      "1/1 [==============================] - 31s 31s/step - loss: 0.1862 - accuracy: 0.9509 - precision_15: 0.9570 - recall_15: 0.9766\n"
     ]
    },
    {
     "data": {
      "text/plain": [
       "[0.18623760342597961,\n",
       " 0.9508547186851501,\n",
       " 0.9569584131240845,\n",
       " 0.9765739440917969]"
      ]
     },
     "execution_count": 8,
     "metadata": {},
     "output_type": "execute_result"
    }
   ],
   "source": [
    "cnn1_modelT.evaluate(validation_generator)"
   ]
  },
  {
   "cell_type": "code",
   "execution_count": null,
   "metadata": {},
   "outputs": [],
   "source": [
    "cnn1_model"
   ]
  },
  {
   "cell_type": "code",
   "execution_count": null,
   "metadata": {},
   "outputs": [],
   "source": [
    "loss = cnn1_history.history['loss']\n",
    "accuracy = cnn1_history.history['accuracy']\n",
    "precision = cnn1_history.history['precision_15']\n",
    "recall = cnn1_history.history['recall_15']\n",
    "\n",
    "validation_loss = cnn1_history.history['val_loss']\n",
    "validation_accuracy = cnn1_history.history['val_accuracy']\n",
    "validation_precision = cnn1_history.history['val_precision_15']\n",
    "validation_recall = cnn1_history.history['val_recall_15']"
   ]
  },
  {
   "cell_type": "code",
   "execution_count": null,
   "metadata": {},
   "outputs": [],
   "source": [
    "history = simple_model_history.history\n",
    "\n",
    "training_loss = history['loss']\n",
    "val_loss = history['val_loss']\n",
    "training_accuracy = history['accuracy']\n",
    "val_accuracy = history['val_accuracy']\n",
    "training_precision = history['precision']\n",
    "val_precision = history['val_precision']\n",
    "training_recall = history['recall']\n",
    "val_recall = history['val_recall']\n",
    "\n",
    "\n",
    "\n",
    "fig, ((ax1, ax2), (ax3, ax4))  = plt.subplots(2,2,figsize=(15,5))\n",
    "\n",
    "sns.lineplot(x=list(range(len(training_loss))),\n",
    "             y=training_loss, color='r', label='training', ax=ax1)\n",
    "sns.lineplot(x=list(range(len(val_loss))),\n",
    "             y=val_loss, color='b', label='validation', ax=ax1)\n",
    "\n",
    "sns.lineplot(x=list(range(len(training_loss))),\n",
    "             y=training_accuracy, color='r', label='training',ax=ax2)\n",
    "sns.lineplot(x=list(range(len(val_loss))),\n",
    "             y=val_accuracy, color='b', label='validation',ax=ax2)\n",
    "\n",
    "sns.lineplot(x=list(range(len(training_loss))),\n",
    "             y=training_precision, color='r', label='training',ax=ax3)\n",
    "sns.lineplot(x=list(range(len(val_loss))),\n",
    "             y=val_precision, color='b', label='validation',ax=ax3)\n",
    "\n",
    "sns.lineplot(x=list(range(len(training_loss))),\n",
    "             y=training_recall, color='r', label='training',ax=ax4)\n",
    "sns.lineplot(x=list(range(len(val_loss))),\n",
    "             y=val_recall, color='b', label='validation',ax=ax4);"
   ]
  },
  {
   "cell_type": "code",
   "execution_count": null,
   "metadata": {},
   "outputs": [],
   "source": [
    "history = simple_model_history.history\n",
    "\n",
    "training_loss = history['loss']\n",
    "val_loss = history['val_loss']\n",
    "training_accuracy = history['accuracy']\n",
    "val_accuracy = history['val_accuracy']\n",
    "training_precision = history['precision']\n",
    "val_precision = history['val_precision']\n",
    "training_recall = history['recall']\n",
    "val_recall = history['val_recall']\n",
    "\n",
    "\n",
    "\n",
    "fig, ((ax1, ax2), (ax3, ax4))  = plt.subplots(2,2,figsize=(15,5))\n",
    "\n",
    "sns.lineplot(x=list(range(len(training_loss))),\n",
    "             y=training_loss, color='r', label='training', ax=ax1)\n",
    "sns.lineplot(x=list(range(len(val_loss))),\n",
    "             y=val_loss, color='b', label='validation', ax=ax1)\n",
    "\n",
    "sns.lineplot(x=list(range(len(training_loss))),\n",
    "             y=training_accuracy, color='r', label='training',ax=ax2)\n",
    "sns.lineplot(x=list(range(len(val_loss))),\n",
    "             y=val_accuracy, color='b', label='validation',ax=ax2)\n",
    "\n",
    "sns.lineplot(x=list(range(len(training_loss))),\n",
    "             y=training_precision, color='r', label='training',ax=ax3)\n",
    "sns.lineplot(x=list(range(len(val_loss))),\n",
    "             y=val_precision, color='b', label='validation',ax=ax3)\n",
    "\n",
    "sns.lineplot(x=list(range(len(training_loss))),\n",
    "             y=training_recall, color='r', label='training',ax=ax4)\n",
    "sns.lineplot(x=list(range(len(val_loss))),\n",
    "             y=val_recall, color='b', label='validation',ax=ax4);"
   ]
  }
 ],
 "metadata": {
  "kernelspec": {
   "display_name": "Python 3",
   "language": "python",
   "name": "python3"
  },
  "language_info": {
   "codemirror_mode": {
    "name": "ipython",
    "version": 3
   },
   "file_extension": ".py",
   "mimetype": "text/x-python",
   "name": "python",
   "nbconvert_exporter": "python",
   "pygments_lexer": "ipython3",
   "version": "3.8.5"
  }
 },
 "nbformat": 4,
 "nbformat_minor": 4
}
